{
 "cells": [
  {
   "cell_type": "markdown",
   "metadata": {
    "nbpresent": {
     "id": "40f07381-e149-4d7a-b5bf-87a3855afcb9"
    },
    "slideshow": {
     "slide_type": ""
    }
   },
   "source": [
    "# Run My Research! \n",
    "## About reproducible research and its importance \n",
    "### Andres Ladino"
   ]
  },
  {
   "cell_type": "code",
   "execution_count": 3,
   "metadata": {
    "slideshow": {
     "slide_type": "skip"
    }
   },
   "outputs": [],
   "source": [
    "from IPython.display import HTML\n",
    "url = 'https://www.theatlantic.com/science/archive/2018/04/the-scientific-paper-is-obsolete/556676/'\n",
    "iframe = '<iframe src=' + url + ' width=1000 height=550></iframe>'"
   ]
  },
  {
   "cell_type": "markdown",
   "metadata": {
    "slideshow": {
     "slide_type": "slide"
    }
   },
   "source": [
    "![Obsolete](support/SciencePaperFlames.png)"
   ]
  },
  {
   "cell_type": "code",
   "execution_count": 4,
   "metadata": {
    "slideshow": {
     "slide_type": "subslide"
    }
   },
   "outputs": [
    {
     "data": {
      "text/html": [
       "<iframe src=https://www.theatlantic.com/science/archive/2018/04/the-scientific-paper-is-obsolete/556676/ width=1000 height=550></iframe>"
      ],
      "text/plain": [
       "<IPython.core.display.HTML object>"
      ]
     },
     "execution_count": 4,
     "metadata": {},
     "output_type": "execute_result"
    }
   ],
   "source": [
    "HTML(iframe)"
   ]
  },
  {
   "cell_type": "markdown",
   "metadata": {
    "slideshow": {
     "slide_type": "slide"
    }
   },
   "source": [
    "## Motivation\n",
    "\n",
    "### About communication \n",
    "\n",
    "- 70% of what we communicate we communicate with the way we express, not what we say itself. \n",
    "\n",
    "### Status quo \n",
    "- \n",
    "- Science is evolving but tools we still write like in the **middle age** \n",
    "- There are easy ways to "
   ]
  },
  {
   "cell_type": "markdown",
   "metadata": {
    "nbpresent": {
     "id": "d902dd8b-ba41-4cfe-9579-6a75e4ec34ab"
    },
    "slideshow": {
     "slide_type": "slide"
    }
   },
   "source": [
    "###                               The purpose of computation is *insights* not numbers\n",
    "\n",
    "                             \n",
    "\n"
   ]
  },
  {
   "cell_type": "code",
   "execution_count": null,
   "metadata": {},
   "outputs": [],
   "source": [
    "# :0   \n",
    "# :-) "
   ]
  },
  {
   "cell_type": "code",
   "execution_count": 8,
   "metadata": {
    "nbpresent": {
     "id": "fc1b7f13-ad61-44bf-b2e1-21fb15fc8ab9"
    },
    "slideshow": {
     "slide_type": "slide"
    }
   },
   "outputs": [
    {
     "data": {
      "text/plain": [
       "5"
      ]
     },
     "execution_count": 8,
     "metadata": {},
     "output_type": "execute_result"
    }
   ],
   "source": [
    "x = 3 + 2\n",
    "x"
   ]
  },
  {
   "cell_type": "markdown",
   "metadata": {
    "nbpresent": {
     "id": "6500ad63-46ab-493d-abdd-84ade7faac96"
    },
    "slideshow": {
     "slide_type": "notes"
    }
   },
   "source": [
    "https://github.com/unpingco/Python-for-Signal-Processing\n",
    "https://github.com/numerical-mooc/numerical-mooc\n",
    "http://idies.jhu.edu/wp-content/uploads/2016/10/FernandoPerezJupyterNotebooks.pdf\n",
    "https://www.nature.com/news/interactive-notebooks-sharing-the-code-1.16261\n"
   ]
  },
  {
   "cell_type": "code",
   "execution_count": 4,
   "metadata": {
    "nbpresent": {
     "id": "4abbc2b1-0f4a-4f26-9bfe-9712526f64e5"
    },
    "slideshow": {
     "slide_type": "notes"
    }
   },
   "outputs": [
    {
     "name": "stdout",
     "output_type": "stream",
     "text": [
      "Object `future` not found.\n"
     ]
    }
   ],
   "source": [
    "Executable papers: the future?"
   ]
  }
 ],
 "metadata": {
  "celltoolbar": "Slideshow",
  "kernelspec": {
   "display_name": "Python [default]",
   "language": "python",
   "name": "python3"
  },
  "language_info": {
   "codemirror_mode": {
    "name": "ipython",
    "version": 3
   },
   "file_extension": ".py",
   "mimetype": "text/x-python",
   "name": "python",
   "nbconvert_exporter": "python",
   "pygments_lexer": "ipython3",
   "version": "3.6.4"
  },
  "livereveal": {
   "autolaunch": true,
   "backimage": "support/background.png",
   "footer": "<h4>Andres Ladino</h4>",
   "header": "<h3>Seminar LICIT - Reproducible research</h3>"
  }
 },
 "nbformat": 4,
 "nbformat_minor": 2
}
